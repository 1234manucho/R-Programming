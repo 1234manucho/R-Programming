{
 "cells": [
  {
   "cell_type": "markdown",
   "metadata": {
    "id": "Gc8x8QimJY_H"
   },
   "source": [
    "# FoodHub Data: Exploratory Data Analysis"
   ]
  },
  {
   "cell_type": "markdown",
   "metadata": {},
   "source": [
    "#### NAME: {Write your name here}"
   ]
  },
  {
   "cell_type": "markdown",
   "metadata": {
    "id": "NqikjkWwJY_L"
   },
   "source": [
    "### Context\n",
    "\n",
    "The number of restaurants in Kenya are increasing day by day. Lots of students and busy professionals rely on these restaurants due to their hectic lifestyles. Online food delivery service is a great option for them. It provides them with good food from their favorite restaurants. A food aggregator company FoodHub offers access to multiple restaurants through a single smartphone app.\n",
    "\n",
    "The app allows the restaurants to receive a direct online order from a customer. The app assigns a delivery person from the company to pick up the order after it is confirmed by the restaurant. The delivery person then uses the map to reach the restaurant and waits for the food package. Once the food package is handed over to the delivery person, he/she confirms the pick-up in the app and travels to the customer's location to deliver the food. The delivery person confirms the drop-off in the app after delivering the food package to the customer. The customer can rate the order in the app. The food aggregator earns money by collecting a fixed margin of the delivery order from the restaurants.\n",
    "\n",
    "### Objective\n",
    "\n",
    "The food aggregator company has stored the data of the different orders made by the registered customers in their online portal. They want to analyze the data to get a fair idea about the demand of different restaurants which will help them in enhancing their customer experience. Suppose you are hired as a Data Scientist in this company and the Data Science team has shared some of the key questions that need to be answered. Perform the data analysis to find answers to these questions that will help the company to improve the business.\n",
    "\n",
    "### Data Description\n",
    "\n",
    "The data contains the different data related to a food order. The detailed data dictionary is given below.\n",
    "\n",
    "### Data Dictionary\n",
    "\n",
    "* order_id: Unique ID of the order\n",
    "* customer_id: ID of the customer who ordered the food\n",
    "* restaurant_name: Name of the restaurant\n",
    "* cuisine_type: Cuisine ordered by the customer\n",
    "* cost_of_the_order: Cost of the order\n",
    "* day_of_the_week: Indicates whether the order is placed on a weekday or weekend (The weekday is from Monday to Friday and the weekend is Saturday and Sunday)\n",
    "* rating: Rating given by the customer out of 5\n",
    "* food_preparation_time: Time (in minutes) taken by the restaurant to prepare the food. This is calculated by taking the difference between the timestamps of the restaurant's order confirmation and the delivery person's pick-up confirmation.\n",
    "* delivery_time: Time (in minutes) taken by the delivery person to deliver the food package. This is calculated by taking the difference between the timestamps of the delivery person's pick-up confirmation and drop-off information"
   ]
  },
  {
   "cell_type": "markdown",
   "metadata": {
    "id": "cEtNUxNAJY_M"
   },
   "source": [
    "### Let us start by importing the required libraries"
   ]
  },
  {
   "cell_type": "code",
   "execution_count": 1,
   "metadata": {
    "id": "_aG-ZzhYXs_1"
   },
   "outputs": [],
   "source": [
    "# Installing the libraries with the specified version.\n",
    "#!pip install numpy==1.25.2 pandas==1.5.3 matplotlib==3.7.1 seaborn==0.13.1 -q --user"
   ]
  },
  {
   "cell_type": "markdown",
   "metadata": {
    "id": "7ueES9WOzI5X"
   },
   "source": [
    "**Note**: *After running the above cell, kindly restart the notebook kernel and run all cells sequentially from the start again.*"
   ]
  },
  {
   "cell_type": "code",
   "execution_count": 2,
   "metadata": {
    "id": "u6PlpJAPJY_N"
   },
   "outputs": [],
   "source": [
    "# import libraries for data manipulation\n",
    "import numpy as np\n",
    "import pandas as pd\n",
    "\n",
    "# import libraries for data visualization\n",
    "import matplotlib.pyplot as plt\n",
    "import seaborn as sns\n",
    "# Command to tell Python to actually display the graphs\n",
    "%matplotlib inline\n",
    "import warnings\n",
    "# Ignore all warnings\n",
    "warnings.filterwarnings('ignore')"
   ]
  },
  {
   "cell_type": "markdown",
   "metadata": {
    "id": "AdracY0HJY_O"
   },
   "source": [
    "### Understanding the structure of the data"
   ]
  },
  {
   "cell_type": "code",
   "execution_count": 3,
   "metadata": {
    "colab": {
     "base_uri": "https://localhost:8080/"
    },
    "id": "WBh2ZGB9kFhU",
    "outputId": "85228534-4192-4fdc-ca20-16f8c6006cc3"
   },
   "outputs": [],
   "source": [
    "# uncomment and run the following lines for Google Colab\n",
    "#from google.colab import drive\n",
    "#drive.mount('/content/drive')"
   ]
  },
  {
   "cell_type": "markdown",
   "metadata": {},
   "source": [
    "#### Importing the dataset"
   ]
  },
  {
   "cell_type": "code",
   "execution_count": 4,
   "metadata": {
    "id": "GF01IZDbJY_O",
    "scrolled": true
   },
   "outputs": [],
   "source": [
    "# Importing the dataset and saving it as 'foodhub_data' in the notebook\n"
   ]
  },
  {
   "cell_type": "markdown",
   "metadata": {},
   "source": [
    "###  <p style=\"color:blue;\">Observations:</p>\n"
   ]
  },
  {
   "cell_type": "markdown",
   "metadata": {},
   "source": [
    "#### View the first and last five rows of the dataset"
   ]
  },
  {
   "cell_type": "code",
   "execution_count": 5,
   "metadata": {
    "colab": {
     "base_uri": "https://localhost:8080/",
     "height": 278
    },
    "id": "337HySV0N8VE",
    "outputId": "b9c218b7-2c45-4403-9d8a-05f2b01204c1"
   },
   "outputs": [],
   "source": [
    "# Viewing the first 5 rows of the dataset\n"
   ]
  },
  {
   "cell_type": "code",
   "execution_count": 6,
   "metadata": {},
   "outputs": [],
   "source": [
    "# Viewing the last five rows of the dataset\n"
   ]
  },
  {
   "cell_type": "markdown",
   "metadata": {},
   "source": [
    "###  <p style=\"color:blue;\">Observations:</p>\n"
   ]
  },
  {
   "cell_type": "markdown",
   "metadata": {},
   "source": [
    "#### Checking for dulicate entries in the dataset"
   ]
  },
  {
   "cell_type": "code",
   "execution_count": null,
   "metadata": {},
   "outputs": [],
   "source": []
  },
  {
   "cell_type": "markdown",
   "metadata": {},
   "source": [
    "###  <p style=\"color:blue;\">Observations:</p>\n"
   ]
  },
  {
   "cell_type": "markdown",
   "metadata": {
    "id": "c3kenV4vJY_Q"
   },
   "source": [
    "### **Question 1:** How many rows and columns are present in the data? "
   ]
  },
  {
   "cell_type": "code",
   "execution_count": 7,
   "metadata": {
    "colab": {
     "base_uri": "https://localhost:8080/"
    },
    "id": "Yvz5i-PhJY_Q",
    "outputId": "f9ecfa2d-6f70-49f8-c63d-a93cb825a20e"
   },
   "outputs": [],
   "source": [
    "# Checking the number of rows and columns in the dataset\n"
   ]
  },
  {
   "cell_type": "markdown",
   "metadata": {
    "id": "UsTNy3unJY_R"
   },
   "source": [
    "### <p style=\"color:blue;\">Observations:</p>\n",
    "\n"
   ]
  },
  {
   "cell_type": "markdown",
   "metadata": {
    "id": "jRXakVrUJY_R"
   },
   "source": [
    "### **Question 2:** What are the datatypes of the different columns in the dataset? (The info() function can be used) "
   ]
  },
  {
   "cell_type": "code",
   "execution_count": 8,
   "metadata": {
    "colab": {
     "base_uri": "https://localhost:8080/"
    },
    "id": "Kp70Z0BNJY_R",
    "outputId": "210e9439-95b4-43c4-b5d8-07ff6d959601"
   },
   "outputs": [],
   "source": [
    "# Write your code here\n"
   ]
  },
  {
   "cell_type": "markdown",
   "metadata": {
    "id": "WJes5GP2JY_S"
   },
   "source": [
    "###  <p style=\"color:blue;\">Observations:</p>\n",
    "\n",
    "Write your observations here\n"
   ]
  },
  {
   "cell_type": "markdown",
   "metadata": {
    "id": "pF_92MN6JY_S"
   },
   "source": [
    "### **Question 3:** Are there any missing values in the data? If yes, treat them using an appropriate method. "
   ]
  },
  {
   "cell_type": "code",
   "execution_count": 9,
   "metadata": {
    "colab": {
     "base_uri": "https://localhost:8080/"
    },
    "id": "Zth-RR1PJY_S",
    "outputId": "57969541-7656-496c-ca1e-8d31709a4b7f"
   },
   "outputs": [],
   "source": [
    "# Write your code here\n"
   ]
  },
  {
   "cell_type": "markdown",
   "metadata": {
    "id": "jDHT3vD1JY_S"
   },
   "source": [
    "###  <p style=\"color:blue;\">Observations:</p>\n"
   ]
  },
  {
   "cell_type": "markdown",
   "metadata": {
    "id": "MnJo7MWrJY_S"
   },
   "source": [
    "### **Question 4:** Check the statistical summary of the data. What is the minimum, average, and maximum time it takes for food to be prepared once an order is placed? "
   ]
  },
  {
   "cell_type": "code",
   "execution_count": 10,
   "metadata": {
    "colab": {
     "base_uri": "https://localhost:8080/",
     "height": 300
    },
    "id": "WprQBgOSJY_T",
    "outputId": "a799da89-7bf3-4b48-acc7-153a5286da2a",
    "scrolled": true
   },
   "outputs": [],
   "source": [
    "# Changing the display format to float to avoid cases where some values may be expressed in standard notation\n",
    "pd.options.display.float_format = '{:.2f}'.format\n",
    "# Checking the statistical summary of the data.\n"
   ]
  },
  {
   "cell_type": "markdown",
   "metadata": {
    "id": "9YbSOR5wJY_T"
   },
   "source": [
    "###  <p style=\"color:blue;\">Observations:</p>\n",
    "\n"
   ]
  },
  {
   "cell_type": "markdown",
   "metadata": {
    "id": "cw3l58z_JY_T"
   },
   "source": [
    "### **Question 5:** How many orders are not rated? [1 mark]"
   ]
  },
  {
   "cell_type": "code",
   "execution_count": 12,
   "metadata": {
    "colab": {
     "base_uri": "https://localhost:8080/"
    },
    "id": "tXHiQkWpY7_C",
    "outputId": "fa74e252-ca63-443b-e252-d3ca16a714bd"
   },
   "outputs": [],
   "source": [
    "# Write the code here. Orders that are not rated are indicated as 'Not given'\n"
   ]
  },
  {
   "cell_type": "markdown",
   "metadata": {
    "id": "5E0O_oviJY_T"
   },
   "source": [
    "###  <p style=\"color:blue;\">Observations:</p>\n",
    "Write your observations here"
   ]
  },
  {
   "cell_type": "markdown",
   "metadata": {
    "id": "7msIfXE-JY_T"
   },
   "source": [
    "### Exploratory Data Analysis (EDA)"
   ]
  },
  {
   "cell_type": "markdown",
   "metadata": {
    "id": "-2xfI28YJY_T"
   },
   "source": [
    "### Univariate Analysis"
   ]
  },
  {
   "cell_type": "markdown",
   "metadata": {
    "id": "0RHZnugBJY_U"
   },
   "source": [
    "### **Question 6:** Explore all the variables and provide observations on their distributions. (Generally, histograms, boxplots, countplots, etc. are used for univariate exploration.) "
   ]
  },
  {
   "cell_type": "markdown",
   "metadata": {
    "id": "WXq8vU2Qc3EJ"
   },
   "source": [
    "6.1 Preparing the dataset for Exploratory Data Analysis (EDA)"
   ]
  },
  {
   "cell_type": "markdown",
   "metadata": {
    "id": "7RT9fHvyh2Yz"
   },
   "source": [
    "6.1.1 Changing the `order_id` and the `customer_id` features (columns) into object data type since there is no meaningful analysis can be performed on them except 'counting'."
   ]
  },
  {
   "cell_type": "code",
   "execution_count": 15,
   "metadata": {
    "id": "rU5ZqISjJY_U"
   },
   "outputs": [],
   "source": [
    "# code that converst 'order_id' to object data type (foodhub_data['order_id']=foodhub_data['order_id'].astype('object'))\n",
    "# Write code to change 'Customer_id' to object data type"
   ]
  },
  {
   "cell_type": "code",
   "execution_count": 13,
   "metadata": {
    "colab": {
     "base_uri": "https://localhost:8080/"
    },
    "id": "gNAvvGqdijY6",
    "outputId": "980093f1-ac04-4236-bcec-be2a075ea89c"
   },
   "outputs": [],
   "source": [
    "#Confirm that 'order_id' and 'customer_id' have been converted from integer to object data type\n"
   ]
  },
  {
   "cell_type": "markdown",
   "metadata": {
    "id": "Q0a8lPxVi60Z"
   },
   "source": [
    "6.1.2 Creating a list of all numeric features and a list of all object features"
   ]
  },
  {
   "cell_type": "code",
   "execution_count": null,
   "metadata": {
    "colab": {
     "base_uri": "https://localhost:8080/"
    },
    "id": "3uzltFYMjFRs",
    "outputId": "d9f2f0a5-0de3-412d-d212-13c29549914a"
   },
   "outputs": [],
   "source": [
    "# List of numeric features\n",
    "foodhub_data_numeric=[]\n",
    "for feature in foodhub_data.columns:\n",
    "  if foodhub_data[feature].dtype!='object':\n",
    "    foodhub_data_numeric.append(feature)\n",
    "# Check the list of numeric features\n",
    "foodhub_data_numeric"
   ]
  },
  {
   "cell_type": "code",
   "execution_count": null,
   "metadata": {
    "colab": {
     "base_uri": "https://localhost:8080/"
    },
    "id": "fCntN-9fk4iy",
    "outputId": "72cb420d-24bb-466f-b83a-476166343c98"
   },
   "outputs": [],
   "source": [
    "# List of object (non-numeric) features (columns)\n"
   ]
  },
  {
   "cell_type": "markdown",
   "metadata": {
    "id": "9C5RnchKloeO"
   },
   "source": [
    "6.2 Checking the distribution of the numeric columns"
   ]
  },
  {
   "cell_type": "code",
   "execution_count": null,
   "metadata": {
    "colab": {
     "base_uri": "https://localhost:8080/",
     "height": 1000
    },
    "id": "bwBTDuw8mT-2",
    "outputId": "c10e3519-3ddd-4579-e561-a9eaf73fb7b9"
   },
   "outputs": [],
   "source": [
    "counter=1\n",
    "for feature in foodhub_data_numeric:\n",
    "  plt.figure(figsize=(5,5))\n",
    "  sns.histplot(data=foodhub_data,x=feature,kde=True)\n",
    "  plt.ylabel('Number of Orders')\n",
    "  plt.show()\n",
    "  print('(b). Boxplot for the column',f'\"{feature}\"')\n",
    "  sns.boxplot(data=foodhub_data,x=feature,showfliers=True)\n",
    "  plt.show()\n",
    "  counter+=1\n"
   ]
  },
  {
   "cell_type": "markdown",
   "metadata": {
    "id": "DMT7LwwMxkTL"
   },
   "source": [
    "6.3 Looking at the descriptive statistics of the numeric features"
   ]
  },
  {
   "cell_type": "code",
   "execution_count": null,
   "metadata": {
    "colab": {
     "base_uri": "https://localhost:8080/",
     "height": 143
    },
    "id": "GBPPemmjx0gI",
    "outputId": "474dd426-2ff1-4bdc-ac03-8303edec4299"
   },
   "outputs": [],
   "source": [
    "#Write code to display descriptive statistics of numeric features"
   ]
  },
  {
   "cell_type": "markdown",
   "metadata": {},
   "source": [
    "###  <p style=\"color:blue;\">Observations:</p>\n",
    "1. `cost_of_the_order`\n",
    "\n",
    "\n",
    "\n",
    "2. `food_preparation_time`\n",
    "\n",
    "\n",
    "\n",
    "3. `delivery_time`\n",
    "\n"
   ]
  },
  {
   "cell_type": "markdown",
   "metadata": {
    "id": "h2t9THKj_FP0"
   },
   "source": [
    "6.4 Checking some characteristics of the non-numeric features"
   ]
  },
  {
   "cell_type": "markdown",
   "metadata": {},
   "source": [
    "6.4.1 Popular Restaurants in terms of Orders"
   ]
  },
  {
   "cell_type": "code",
   "execution_count": null,
   "metadata": {
    "colab": {
     "base_uri": "https://localhost:8080/",
     "height": 424
    },
    "id": "ErATh2LF_V95",
    "outputId": "56f8720b-0e25-4a77-91d5-9540285c0130"
   },
   "outputs": [],
   "source": [
    "# The number of orders made from each restaurant onboarded in the FoodHub App\n"
   ]
  },
  {
   "cell_type": "markdown",
   "metadata": {},
   "source": [
    "###  <p style=\"color:blue;\">Observations:</p>\n",
    "\n"
   ]
  },
  {
   "cell_type": "markdown",
   "metadata": {},
   "source": [
    "6.4.2 Popular Cuisine Type by Orders"
   ]
  },
  {
   "cell_type": "code",
   "execution_count": null,
   "metadata": {
    "colab": {
     "base_uri": "https://localhost:8080/",
     "height": 489
    },
    "id": "5rXSnaQ5AOxB",
    "outputId": "75afcee7-8629-44cd-90dd-5ced94976301"
   },
   "outputs": [],
   "source": [
    "#The different types of cuisines ordered by customers in the FoodHub App\n"
   ]
  },
  {
   "cell_type": "code",
   "execution_count": null,
   "metadata": {
    "colab": {
     "base_uri": "https://localhost:8080/",
     "height": 561
    },
    "id": "23tuiD54bENa",
    "outputId": "c44c5412-129d-4efb-a3f1-71e4fb27af49"
   },
   "outputs": [],
   "source": [
    "#Visualizing the number of orders by cuisine type\n"
   ]
  },
  {
   "cell_type": "markdown",
   "metadata": {},
   "source": [
    "###  <p style=\"color:blue;\">Observations:</p>\n"
   ]
  },
  {
   "cell_type": "markdown",
   "metadata": {},
   "source": [
    "6.4.3 Days of the Week and Orders"
   ]
  },
  {
   "cell_type": "code",
   "execution_count": null,
   "metadata": {
    "colab": {
     "base_uri": "https://localhost:8080/",
     "height": 125
    },
    "id": "QUakSQfuMPn_",
    "outputId": "c488ba7c-59a9-49ae-a62d-e90ffd3dcd35"
   },
   "outputs": [],
   "source": [
    "#The number of orders based on the 'day of the week'\n"
   ]
  },
  {
   "cell_type": "code",
   "execution_count": null,
   "metadata": {
    "colab": {
     "base_uri": "https://localhost:8080/",
     "height": 472
    },
    "id": "tgIH-OdWnOZ_",
    "outputId": "90b03681-edae-4b28-d0e6-b907f1449aa2"
   },
   "outputs": [],
   "source": [
    "#Visualizing the number of orders based on the 'day of the week\n"
   ]
  },
  {
   "cell_type": "markdown",
   "metadata": {},
   "source": [
    "###  <p style=\"color:blue;\">Observations:</p>\n"
   ]
  },
  {
   "cell_type": "markdown",
   "metadata": {},
   "source": [
    "6.4.4 Ratings and number of orders"
   ]
  },
  {
   "cell_type": "code",
   "execution_count": null,
   "metadata": {
    "colab": {
     "base_uri": "https://localhost:8080/",
     "height": 175
    },
    "id": "FaQWIO5kM0MK",
    "outputId": "40e4aef5-a607-434a-ed18-08d1ea016f6e"
   },
   "outputs": [],
   "source": [
    "# Ratings and number of orders\n",
    "cuisines_ordered=pd.DataFrame(foodhub_data['rating'].value_counts()).reset_index()\n",
    "cuisines_ordered.columns=['Rating','Number of Orders']\n",
    "cuisines_ordered"
   ]
  },
  {
   "cell_type": "code",
   "execution_count": null,
   "metadata": {
    "colab": {
     "base_uri": "https://localhost:8080/",
     "height": 472
    },
    "id": "7IOiA2f3rh1Y",
    "outputId": "a5d3717c-9439-47fc-a919-ab937b21ad79"
   },
   "outputs": [],
   "source": [
    "#The number of orders based on ratings\n",
    "sns.countplot(data=foodhub_data,x='rating', order=foodhub_data['rating'].value_counts().index);\n",
    "plt.ylabel('Number of Orders');\n",
    "plt.xlabel('Rating');\n",
    "plt.title('Number of Orders by Rating');\n",
    "plt.bar_label(container=plt.gca().containers[0]);"
   ]
  },
  {
   "cell_type": "markdown",
   "metadata": {},
   "source": [
    "###  <p style=\"color:blue;\">Observations:</p>\n",
    "i) Most of the orders were not rated by customers. A total of 736 out of 1898 orders were not rated.<br>\n",
    "ii) Out of 1898 oders, 588 received a `rating` of 5.<br>\n",
    "iii) A `rating` of 4 and 3 were given to 386 and 188 orders respectively.<br>"
   ]
  },
  {
   "cell_type": "code",
   "execution_count": null,
   "metadata": {},
   "outputs": [],
   "source": [
    "# Checking number of orders made by top 10 customers\n",
    "customer_orders=pd.DataFrame(foodhub_data['customer_id'].value_counts()).reset_index()\n",
    "customer_orders.columns=['Customer_ID','Number of Orders']\n",
    "customer_orders.head(10)"
   ]
  },
  {
   "cell_type": "code",
   "execution_count": null,
   "metadata": {
    "scrolled": true
   },
   "outputs": [],
   "source": [
    "# Exploring the restaurants and cuisines prefered by the top customer\n",
    "foodhub_data.loc[foodhub_data['customer_id']==52832]\n"
   ]
  },
  {
   "cell_type": "markdown",
   "metadata": {},
   "source": [
    "###  <p style=\"color:blue;\">Observations:</p>\n",
    "i) Top 10 customers made more than 6 orders.<br>\n",
    "ii) The customer with the highest number of oreders made 13 orders followed by a customer with 10 orders.<br>\n",
    "iii) The customer with the highets number of orders sampled different restaurants and cuisine types."
   ]
  },
  {
   "cell_type": "markdown",
   "metadata": {
    "id": "K9CqA5H_JY_U"
   },
   "source": [
    "### **Question 7**: Which are the top 5 restaurants in terms of the number of orders received? [1 mark]"
   ]
  },
  {
   "cell_type": "code",
   "execution_count": null,
   "metadata": {
    "colab": {
     "base_uri": "https://localhost:8080/",
     "height": 206
    },
    "id": "PaJZ3wlOJY_U",
    "outputId": "cce661bf-2006-4859-c41d-34b75c6e311e"
   },
   "outputs": [],
   "source": [
    "# Top 5 restaurants in terms of the number of orders received.\n",
    "orders_by_restaurants= pd.DataFrame(foodhub_data['restaurant_name'].value_counts()).reset_index()\n",
    "orders_by_restaurants.columns=['Restaurant Name','Number of Orders']\n",
    "orders_by_restaurants.head(5)"
   ]
  },
  {
   "cell_type": "markdown",
   "metadata": {
    "id": "tnjhWgUfJY_U"
   },
   "source": [
    "###  <p style=\"color:blue;\">Observations:</p>\n",
    "i)  The restaurant with the highets number of orders is `Shake Shack` with 219 orders.<br>\n",
    "ii) The top 5 restaurants account for 634 orders out of the 1898 orders.<br>\n",
    "iii)The top 5 resturants had 68 and above orders.<br>\n"
   ]
  },
  {
   "cell_type": "markdown",
   "metadata": {
    "id": "gWPMqGq0JY_U"
   },
   "source": [
    "### **Question 8**: Which is the most popular cuisine on weekends? [1 mark]"
   ]
  },
  {
   "cell_type": "code",
   "execution_count": null,
   "metadata": {
    "colab": {
     "base_uri": "https://localhost:8080/"
    },
    "id": "c-Xnus3VJY_U",
    "outputId": "7e65bab1-e134-40a9-df74-761495dc5821"
   },
   "outputs": [],
   "source": [
    "# Filter data for weekend orders\n",
    "weekend_orders = foodhub_data[foodhub_data['day_of_the_week'] == 'Weekend']\n",
    "\n",
    "# Count cuisine types for weekend orders\n",
    "cuisines_popular = pd.DataFrame(weekend_orders['cuisine_type'].value_counts()).reset_index()\n",
    "cuisines_popular.columns = ['Cuisine Type', 'Number of Weekend Orders']\n",
    "cuisines_popular"
   ]
  },
  {
   "cell_type": "markdown",
   "metadata": {
    "id": "bpQ270TUJY_U"
   },
   "source": [
    "###  <p style=\"color:blue;\">Observations:</p>\n",
    "i) The most popular cuisine type over the `Weekend` is `American` with 415 orders.<br>\n",
    "ii) It is worth noting that `Americana` is also the most popular `Cuisine Type` overal with 584 orders.<br>\n"
   ]
  },
  {
   "cell_type": "markdown",
   "metadata": {
    "id": "88xgTqkxJY_U"
   },
   "source": [
    "### **Question 9**: What percentage of the orders cost more than 20 dollars? [2 marks]"
   ]
  },
  {
   "cell_type": "code",
   "execution_count": null,
   "metadata": {
    "colab": {
     "base_uri": "https://localhost:8080/"
    },
    "id": "OTpHyTdzJY_U",
    "outputId": "06b317c3-3757-4f91-b72f-e35b96e5c687"
   },
   "outputs": [],
   "source": [
    "# Write the code here\n",
    "foodhub_data[foodhub_data['cost_of_the_order']>20].shape[0]/foodhub_data.shape[0]*100"
   ]
  },
  {
   "cell_type": "markdown",
   "metadata": {
    "id": "77KNAC5zJY_U"
   },
   "source": [
    "###  <p style=\"color:blue;\">Observations:</p>\n",
    "i) The orders that cost more than 20 dollars are 29 percent of the total orders.<br>\n",
    "ii) About 60 percent of the orders cost less than 20 dollars.<br>\n"
   ]
  },
  {
   "cell_type": "markdown",
   "metadata": {
    "id": "HFyHn7hsJY_V"
   },
   "source": [
    "### **Question 10**: What is the mean order delivery time? [1 mark]"
   ]
  },
  {
   "cell_type": "code",
   "execution_count": null,
   "metadata": {
    "colab": {
     "base_uri": "https://localhost:8080/"
    },
    "id": "cyFL13hNJY_V",
    "outputId": "4fd74a18-aa13-4b7a-e17d-0e3340434772"
   },
   "outputs": [],
   "source": [
    "# Write the code here\n",
    "foodhub_data['delivery_time'].mean()"
   ]
  },
  {
   "cell_type": "markdown",
   "metadata": {
    "id": "F35SRV-HJY_V"
   },
   "source": [
    "###  <p style=\"color:blue;\">Observations:</p>\n",
    "i) The mean `order delivet time` is 24.16.<br>\n",
    "ii) ii) The mean order delivery time (24.16) is lower than the median order delivery time (25.00)<br>"
   ]
  },
  {
   "cell_type": "markdown",
   "metadata": {
    "id": "48IjaOuDJY_V"
   },
   "source": [
    "### **Question 11:** The company has decided to give 20% discount vouchers to the top 3 most frequent customers. Find the IDs of these customers and the number of orders they placed. [1 mark]"
   ]
  },
  {
   "cell_type": "code",
   "execution_count": null,
   "metadata": {
    "colab": {
     "base_uri": "https://localhost:8080/",
     "height": 143
    },
    "id": "Hz8-DE4Zge0j",
    "outputId": "c1c5e9b3-c989-43fb-aac5-2503727397bd"
   },
   "outputs": [],
   "source": [
    "# Top 3 most frequent customers and the number of orders they placed.\n",
    "foodhub_top_customers=pd.DataFrame(foodhub_data['customer_id'].value_counts()).reset_index()\n",
    "foodhub_top_customers.columns=['Customer ID','Number of Orders']\n",
    "foodhub_top_customers.head(3)"
   ]
  },
  {
   "cell_type": "markdown",
   "metadata": {
    "id": "9tWVwfX6JY_V"
   },
   "source": [
    "###  <p style=\"color:blue;\">Observations:</p>\n",
    "i) The 3 top customers in terms of orders that `13`, `10`and `9` orders.<br>\n",
    "ii) The total number of orders made by the top 3 customers was 32 out of 1898 orders.<br>"
   ]
  },
  {
   "cell_type": "markdown",
   "metadata": {
    "id": "AfIc2jPaJY_V"
   },
   "source": [
    "### Multivariate Analysis"
   ]
  },
  {
   "cell_type": "markdown",
   "metadata": {
    "id": "iqiS0RT_JY_V"
   },
   "source": [
    "### **Question 12**: Perform a multivariate analysis to explore relationships between the important variables in the dataset. (It is a good idea to explore relations between numerical variables as well as relations between numerical and categorical variables) [10 marks]\n"
   ]
  },
  {
   "cell_type": "markdown",
   "metadata": {},
   "source": [
    "12.1 Checking correlation between all the Numeric features using `pairplot`."
   ]
  },
  {
   "cell_type": "code",
   "execution_count": null,
   "metadata": {
    "colab": {
     "base_uri": "https://localhost:8080/",
     "height": 1000
    },
    "id": "3qt4MCNTJY_V",
    "outputId": "ff1bce81-74d0-4e32-9ead-96572c9684d6"
   },
   "outputs": [],
   "source": [
    "# Exploring the pairwise relationship amongst the various features (lower half).\n",
    "sns.pairplot(data=foodhub_data,diag_kind='hist',corner=True);"
   ]
  },
  {
   "cell_type": "markdown",
   "metadata": {},
   "source": [
    "###  <p style=\"color:blue;\">Observations:</p>\n",
    "i) There seems to be no obvious pairwise correlation amongst the columns(features)<br>\n",
    "ii) The `order_id` and `customer_id` are meaningless in this context since they are numeric but are used as labels<br>"
   ]
  },
  {
   "cell_type": "markdown",
   "metadata": {},
   "source": [
    "12.2 Checking correlation between the Numeric features using `pairplot`."
   ]
  },
  {
   "cell_type": "code",
   "execution_count": null,
   "metadata": {
    "colab": {
     "base_uri": "https://localhost:8080/",
     "height": 758
    },
    "id": "Vxq9KyLQy8tz",
    "outputId": "65c7d5f1-b9bf-4059-9398-8acac0a95beb"
   },
   "outputs": [],
   "source": [
    "# Checking the pairwise relationship of the numeric features (lower half).\n",
    "sns.pairplot(data=foodhub_data[foodhub_data_numeric],diag_kind='hist',corner=True);"
   ]
  },
  {
   "cell_type": "markdown",
   "metadata": {},
   "source": [
    "###  <p style=\"color:blue;\">Observations:</p>\n",
    "i) There seems to be no obvious pairwise correlation amongst the numeric columns(features)<br>\n"
   ]
  },
  {
   "cell_type": "markdown",
   "metadata": {},
   "source": [
    "12.3 Digging Deeper into Correlation"
   ]
  },
  {
   "cell_type": "code",
   "execution_count": null,
   "metadata": {
    "colab": {
     "base_uri": "https://localhost:8080/",
     "height": 143
    },
    "id": "KxbCrQ9e6KWb",
    "outputId": "bff9ab72-54fe-439c-eb5d-a9d70247e40a"
   },
   "outputs": [],
   "source": [
    "foodhub_data[foodhub_data_numeric].corr()"
   ]
  },
  {
   "cell_type": "code",
   "execution_count": null,
   "metadata": {
    "colab": {
     "base_uri": "https://localhost:8080/",
     "height": 579
    },
    "id": "GP-CX0gs61rg",
    "outputId": "2e17a9d5-33b2-4f43-cda2-76958577dab0"
   },
   "outputs": [],
   "source": [
    "# Visualizing the pairwise correlation using a heatmap.\n",
    "sns.heatmap(foodhub_data[foodhub_data_numeric].corr(),annot=True,cmap='coolwarm');"
   ]
  },
  {
   "cell_type": "markdown",
   "metadata": {},
   "source": [
    "###  <p style=\"color:blue;\">Observations:</p>\n",
    "i) There is a slight positive correlation (0.042) between `cost_of_the_order` and `food_praparation_time`<br>\n",
    "ii) There is a slight negative (0.030) between `delivery_time` and `cost_of_the_order`<br>"
   ]
  },
  {
   "cell_type": "code",
   "execution_count": null,
   "metadata": {},
   "outputs": [],
   "source": [
    "# Using a jointplot to check both correlation and distibution\n",
    "sns.jointplot(x='delivery_time',y='cost_of_the_order',hue='day_of_the_week',data=foodhub_data)"
   ]
  },
  {
   "cell_type": "markdown",
   "metadata": {},
   "source": [
    "###  <p style=\"color:blue;\">Observations:</p>\n",
    "i) We already checked the distributions in 6.2 above.<br>\n",
    "ii) More orders were made on `Weekend` compared to `Weekday`"
   ]
  },
  {
   "cell_type": "markdown",
   "metadata": {},
   "source": [
    "12.4 Checking number of orders by Cuisine Type and Day of the Week "
   ]
  },
  {
   "cell_type": "code",
   "execution_count": null,
   "metadata": {
    "scrolled": true
   },
   "outputs": [],
   "source": [
    "# Cuisine type and there orders based on the day of the week\n",
    "sns.catplot(data=foodhub_data,x='cuisine_type',kind='count', hue='day_of_the_week');\n",
    "plt.xticks(rotation=90);\n",
    "plt.title('Orders Based on Cuisine Type and Day of the Week');\n",
    "plt.xlabel('Cuisine Type')\n",
    "plt.ylabel('Number of Orders')\n",
    "plt.bar_label(container=plt.gca().containers[0]);"
   ]
  },
  {
   "cell_type": "markdown",
   "metadata": {},
   "source": [
    "###  <p style=\"color:blue;\">Observations:</p>\n",
    "i) The orders for all the `cuisine type`were higher on `Weekend` compared to `Weekday`.<br>\n",
    "ii) `American` had the highets number of orders on bothe weekends and weekdays.<br>"
   ]
  },
  {
   "cell_type": "code",
   "execution_count": null,
   "metadata": {},
   "outputs": [],
   "source": [
    "# Checking ratings based on the day of the week.\n",
    "sns.catplot(data=foodhub_data,x='day_of_the_week',kind='count', hue='rating');\n",
    "plt.xticks(rotation=90);\n",
    "plt.title('Ratings Based on the Day of the Week');\n",
    "plt.xlabel('Day of the Week')\n",
    "plt.ylabel('Number of Orders')\n",
    "plt.bar_label(container=plt.gca().containers[0]);"
   ]
  },
  {
   "cell_type": "markdown",
   "metadata": {},
   "source": [
    "###  <p style=\"color:blue;\">Observations:</p>\n",
    "i) It is important to note that `Weekend` had the highest number of `Rating not given`.<br>.\n",
    "ii) It may be interesting to find out why most customers never bothered to provide ratings during weekends.<br>"
   ]
  },
  {
   "cell_type": "markdown",
   "metadata": {
    "id": "YLkMf09YJY_V"
   },
   "source": [
    "### **Question 13:** The company wants to provide a promotional offer in the advertisement of the restaurants. The condition to get the offer is that the restaurants must have a rating count of more than 50 and the average rating should be greater than 4. Find the restaurants fulfilling the criteria to get the promotional offer. [3 marks]"
   ]
  },
  {
   "cell_type": "markdown",
   "metadata": {
    "id": "tb0tBKQICbwo"
   },
   "source": [
    "13.1 Creating a dataframe with only rated orders (exclude cases where rating was not given)"
   ]
  },
  {
   "cell_type": "code",
   "execution_count": null,
   "metadata": {
    "colab": {
     "base_uri": "https://localhost:8080/",
     "height": 244
    },
    "id": "0M_QDvbYJY_V",
    "outputId": "eb109270-5481-4b13-d9a1-c16dfc6a97bb",
    "scrolled": false
   },
   "outputs": [],
   "source": [
    "# Create a new dataset that excludes records with 'Not given' rating\n",
    "foodhub_data_rated=foodhub_data[foodhub_data['rating']!='Not given']\n",
    "foodhub_data_rated.head()"
   ]
  },
  {
   "cell_type": "markdown",
   "metadata": {
    "id": "f8TLPRUuCqWt"
   },
   "source": [
    "13.2 Generating a dataset of the restaurants that fulfil the criteria"
   ]
  },
  {
   "cell_type": "code",
   "execution_count": null,
   "metadata": {
    "colab": {
     "base_uri": "https://localhost:8080/"
    },
    "id": "yF5qQo7QtkQo",
    "outputId": "74beeaf8-fa9e-4364-8b30-09c458b7c08c",
    "scrolled": true
   },
   "outputs": [],
   "source": [
    "# Change the data type of 'rating' from object to float so as to calculate mean rating for each restaurant\n",
    "foodhub_data_rated['rating']=foodhub_data_rated['rating'].astype('float');"
   ]
  },
  {
   "cell_type": "code",
   "execution_count": null,
   "metadata": {
    "id": "_3K4FdQNw3Jb",
    "scrolled": true
   },
   "outputs": [],
   "source": [
    "# Generate a dataframe of restaurnats including the number of times each restaurant was rated and their mean rating\n",
    "restaurants_rating_count_mean= foodhub_data_rated.groupby('restaurant_name')['rating'].agg(['count','mean']).reset_index()\n",
    "restaurants_rating_count_mean.head()"
   ]
  },
  {
   "cell_type": "code",
   "execution_count": null,
   "metadata": {},
   "outputs": [],
   "source": [
    "#Generate a dataframe of the restaurants that qualify for promotion offer.\n",
    "restaurants_promotion_offer = restaurants_rating_count_mean[(restaurants_rating_count_mean['count'] > 50) & (restaurants_rating_count_mean['mean'] > 4)]\n",
    "restaurants_promotion_offer.sort_values(by='mean',ascending=False).reset_index()"
   ]
  },
  {
   "cell_type": "markdown",
   "metadata": {
    "id": "10uryUMhJY_V"
   },
   "source": [
    "###  <p style=\"color:blue;\">Observations:</p>\n",
    "i)`The Meatball Shop` had the highest mean `rating` at 4.51<br>\n",
    "ii) Even though `Shake Shack` had the highest number of rated orders (133), it had the third highest mean rating (4.28).<br>\n",
    "iii) It is worth noting that `Shake Shack` had the highest total number of orders (219) but only 133 were rated.<br>\n"
   ]
  },
  {
   "cell_type": "markdown",
   "metadata": {
    "id": "1gvWBkRUJY_V"
   },
   "source": [
    "### **Question 14:** The company charges the restaurant 25% on the orders having cost greater than 20 dollars and 15% on the orders having cost greater than 5 dollars. Find the net revenue generated by the company across all orders. [3 marks]"
   ]
  },
  {
   "cell_type": "code",
   "execution_count": null,
   "metadata": {
    "id": "rEjbnTNEJY_W"
   },
   "outputs": [],
   "source": [
    "# Creating a function to calculate commission for each order based on the criteria give\n",
    "def commission_charged(order_value):\n",
    "    if order_value>20:\n",
    "        commission=order_value*0.25\n",
    "    elif order_value>5:\n",
    "        commission=order_value*0.15\n",
    "    else:\n",
    "        commission=0\n",
    "    return commission\n",
    "    "
   ]
  },
  {
   "cell_type": "code",
   "execution_count": null,
   "metadata": {},
   "outputs": [],
   "source": [
    "# Creating a copy of the foodhub_data dataset. We do not want to intefere with the original dataset \n",
    "foodhub_data_1=foodhub_data\n",
    "# Adding a new column called 'commission' on the Foodhub_data_1 dataframe and\n",
    "#Applying the function on the 'commission' column to calculate commission for each order\n",
    "foodhub_data_1['commission']=foodhub_data_1['cost_of_the_order'].apply(commission_charged)\n",
    "foodhub_data_1"
   ]
  },
  {
   "cell_type": "code",
   "execution_count": null,
   "metadata": {},
   "outputs": [],
   "source": [
    "# Calculating the total commission earned by the FoodHub for the aggregation services.\n",
    "print('The total commission earned by FoodHub is ',foodhub_data_1['commission'].sum())"
   ]
  },
  {
   "cell_type": "markdown",
   "metadata": {
    "id": "XHCEJgH0JY_W"
   },
   "source": [
    "###  <p style=\"color:blue;\">Observations:</p>\n",
    "i)`FoodHub` earned a total commission of 6166.303 dollars.<br>\n",
    "ii)`FoodHub` did not charge commission on orders worth less than 5 dollars.<br>\n"
   ]
  },
  {
   "cell_type": "markdown",
   "metadata": {
    "id": "pRlVW-oeJY_W"
   },
   "source": [
    "### **Question 15:** The company wants to analyze the total time required to deliver the food. What percentage of orders take more than 60 minutes to get delivered from the time the order is placed? (The food has to be prepared and then delivered.) [2 marks]"
   ]
  },
  {
   "cell_type": "code",
   "execution_count": null,
   "metadata": {
    "id": "zxoTrxfLJY_W"
   },
   "outputs": [],
   "source": [
    "# Generating a dataframe of all the orders whose total delivery time was more than 60\n",
    "# total_time_deliver =food_preparation_time+delivery_time\n",
    "foodhub_data_1['total_delivery_time']=foodhub_data_1['food_preparation_time']+foodhub_data_1['delivery_time']\n",
    "foodhub_data_1.head(5)\n"
   ]
  },
  {
   "cell_type": "code",
   "execution_count": null,
   "metadata": {},
   "outputs": [],
   "source": [
    "#Calculating the number of orders with delivery time exceeding 60 as a percentage of the total number orders.\n",
    "delivery_time_percentage=(foodhub_data_1[foodhub_data_1['total_delivery_time']>60].shape[0]/foodhub_data_1.shape[0])*100\n",
    "print('The percentage of orders with total delivery time greater than 60 is',f\"{delivery_time_percentage:.2f}\",'%')\n"
   ]
  },
  {
   "cell_type": "markdown",
   "metadata": {
    "id": "iqzBXn2yJY_W"
   },
   "source": [
    "###  <p style=\"color:blue;\">Observations:</p>\n",
    "i) The percentage of orders that took more than 60 minutes to deliver is 10.54 percent.<br>\n",
    "ii) About 89 percent of orders took less 60 minutes and less to deliver.<br>\n"
   ]
  },
  {
   "cell_type": "markdown",
   "metadata": {
    "id": "bUd6cYpPJY_W"
   },
   "source": [
    "### **Question 16:** The company wants to analyze the delivery time of the orders on weekdays and weekends. How does the mean delivery time vary during weekdays and weekends? [2 marks]"
   ]
  },
  {
   "cell_type": "code",
   "execution_count": null,
   "metadata": {
    "id": "pIU5xZZ6JY_W"
   },
   "outputs": [],
   "source": [
    "mean_delivery_by_day_week=foodhub_data_1.groupby('day_of_the_week')['delivery_time'].agg(['count','sum','mean']).reset_index()\n",
    "mean_delivery_by_day_week.columns=['Day of the week','Number of Deliveries','Sum of Delivery Time','Mean Delivery Time']\n",
    "mean_delivery_by_day_week"
   ]
  },
  {
   "cell_type": "markdown",
   "metadata": {
    "id": "8H-ODxbVJY_W"
   },
   "source": [
    "###  <p style=\"color:blue;\">Observations:</p>\n",
    "i) The mean delivery time is longer (28.34) on `Weekday`.<br>\n",
    "ii) The mean delivery is shorter (22.47) on `Weekend`.<br>"
   ]
  },
  {
   "cell_type": "markdown",
   "metadata": {
    "id": "17roJywaJY_W"
   },
   "source": [
    "### Conclusion and Recommendations"
   ]
  },
  {
   "cell_type": "markdown",
   "metadata": {
    "id": "ZdX2Wz4FJY_W"
   },
   "source": [
    "### **Question 17:** What are your conclusions from the analysis? What recommendations would you like to share to help improve the business? (You can use cuisine type and feedback ratings to drive your business recommendations.) [6 marks]"
   ]
  },
  {
   "cell_type": "markdown",
   "metadata": {
    "id": "VTugVsL4Ddz-"
   },
   "source": [
    "### Conclusions:\n",
    "*  Their are more orders (1351) made on `Weekend` compared to (547) made on `Weekday`.<br>\n",
    "*  There were quite a number of orders that were not `rated` (736) out of a total of 1898 orders.<br>\n",
    "*  The most popular restaurant is `Shake Shark` with 219 orders out of 1898 orders.<br>\n",
    "*  The most popular cuisine type is `American` (584) orders followed by `Japanese` with 470 orders.The two cuisine types are also very popular over the weekend accounting for 415 and 335 orders respectively<br>\n",
    "*  Most restaurants that were rated had a rating of 5 (588 restaurants).<br>\n",
    "*  Top ten customers had between 6 to 13 orders across different restaurants and cuisine types.<br>\n",
    "*  `The Meatball Shop` was the most highly rated restaurant with a mean rating of 4.51.\n",
    "*  The mean `delivery time` is longer on `Weekday` even though it has fewer orders compared to `Weekend`"
   ]
  },
  {
   "cell_type": "markdown",
   "metadata": {
    "id": "PWnsI0i_guWJ"
   },
   "source": [
    "### Conclusions:\n",
    "*  Motivate customers to rate their orders. The customers can be motivated by offering loyalty points for all the orders rated.<br>\n",
    "*  Conduct promotions for weekdays to increase the number of orders. The promotion can include bundled cuisine types or discounts.<br>\n",
    "*  Rewards for popular restaurants to create a healthy competition among the restaurants.<br>\n",
    "*  Check on the reasons why `American` and `Japanese` are popular cuisine types. `FoodHub` can conduct an exploratory survey. The insights from the survey can be shared with the restaurants.<br>\n",
    "*  It seems most restaurants that were rated had a rating of 5. These restaurants should be rewarded to continue the good service. <br>\n",
    "*  Conduct targeted promotion based on orders done by customers. For example, top customers can be rewarded with value addition to their orders while customers with small number of orders can be given discounts.<br>\n",
    "* Restaurants with high mean rating should be branded. For example, FoodHub can create labels like `premium`, `silver`, `bronze` and others. The labels give the restaurants some level of prestige with customers."
   ]
  },
  {
   "cell_type": "markdown",
   "metadata": {
    "id": "tSoucKKbg9Hc"
   },
   "source": [
    "---"
   ]
  }
 ],
 "metadata": {
  "colab": {
   "provenance": []
  },
  "kernelspec": {
   "display_name": "Python 3 (ipykernel)",
   "language": "python",
   "name": "python3"
  },
  "language_info": {
   "codemirror_mode": {
    "name": "ipython",
    "version": 3
   },
   "file_extension": ".py",
   "mimetype": "text/x-python",
   "name": "python",
   "nbconvert_exporter": "python",
   "pygments_lexer": "ipython3",
   "version": "3.11.5"
  }
 },
 "nbformat": 4,
 "nbformat_minor": 1
}
